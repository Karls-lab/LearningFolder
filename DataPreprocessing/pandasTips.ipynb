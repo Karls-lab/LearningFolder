{
 "cells": [
  {
   "cell_type": "code",
   "execution_count": 2,
   "metadata": {},
   "outputs": [],
   "source": [
    "import pandas as pd"
   ]
  },
  {
   "cell_type": "markdown",
   "metadata": {},
   "source": [
    "Pandas is a really powerful tool! Here are some tips \n",
    "and tricks to prepossess your data. "
   ]
  },
  {
   "cell_type": "code",
   "execution_count": 6,
   "metadata": {},
   "outputs": [
    {
     "name": "stdout",
     "output_type": "stream",
     "text": [
      "   first_name  last_name\n",
      "0       False      False\n",
      "1       False       True\n",
      "  first_name last_name\n",
      "0      Jason    Miller\n",
      "  first_name     last_name\n",
      "0      Jason        Miller\n",
      "1      Molly  No Last Name\n"
     ]
    }
   ],
   "source": [
    "\"\"\" Handle missing data in a pandas DataFrame.\"\"\"\n",
    "df = {'first_name': ['Jason', 'Molly', 'Tina', 'Jake', 'Amy'], \n",
    "      'last_name': ['Miller', None, 'Ali', 'Milner', None]}\n",
    "df = pd.DataFrame(df)\n",
    "\n",
    "# use isnull() to check for missing values\n",
    "print(df.head(2).isnull())\n",
    "\n",
    "# use dropna() to drop rows with missing values\n",
    "print(df.head(2).dropna())\n",
    "\n",
    "# or use fillna() to fill in missing values\n",
    "print(df.head(2).fillna(\"No Last Name\"))\n"
   ]
  }
 ],
 "metadata": {
  "kernelspec": {
   "display_name": "Python 3",
   "language": "python",
   "name": "python3"
  },
  "language_info": {
   "codemirror_mode": {
    "name": "ipython",
    "version": 3
   },
   "file_extension": ".py",
   "mimetype": "text/x-python",
   "name": "python",
   "nbconvert_exporter": "python",
   "pygments_lexer": "ipython3",
   "version": "3.11.6"
  }
 },
 "nbformat": 4,
 "nbformat_minor": 2
}
