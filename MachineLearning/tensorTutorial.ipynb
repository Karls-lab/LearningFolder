{
 "cells": [
  {
   "cell_type": "code",
   "execution_count": 2,
   "metadata": {},
   "outputs": [
    {
     "name": "stdout",
     "output_type": "stream",
     "text": [
      "Ones Tensor: \n",
      " tensor([[1, 1],\n",
      "        [1, 1]]) \n",
      "\n",
      "Random Tensor: \n",
      " tensor([[0.3796, 0.6802],\n",
      "        [0.8896, 0.3199]]) \n",
      "\n"
     ]
    }
   ],
   "source": [
    "import torch \n",
    "import numpy as np\n",
    "\n",
    "x_data = [[1, 2], [3, 4]]\n",
    "x_data = torch.tensor(x_data)\n",
    "\n",
    "x_ones = torch.ones_like(x_data) # retains the properties of x_data\n",
    "print(f\"Ones Tensor: \\n {x_ones} \\n\")\n",
    "\n",
    "x_rand = torch.rand_like(x_data, dtype=torch.float) # overrides the datatype of x_data\n",
    "print(f\"Random Tensor: \\n {x_rand} \\n\")"
   ]
  },
  {
   "cell_type": "code",
   "execution_count": 28,
   "metadata": {},
   "outputs": [
    {
     "name": "stdout",
     "output_type": "stream",
     "text": [
      "Original tensor: \n",
      " tensor([[6.0000, 1.0000, 0.9387],\n",
      "        [0.5687, 1.0000, 0.8997],\n",
      "        [0.3619, 1.0000, 9.0000]]) \n",
      "\n",
      "Padded tensor: \n",
      " tensor([[0.0000, 0.0000, 0.0000, 0.0000, 0.0000],\n",
      "        [0.0000, 6.0000, 1.0000, 0.9387, 0.0000],\n",
      "        [0.0000, 0.5687, 1.0000, 0.8997, 0.0000],\n",
      "        [0.0000, 0.3619, 1.0000, 9.0000, 0.0000],\n",
      "        [0.0000, 0.0000, 0.0000, 0.0000, 0.0000]]) \n",
      "\n"
     ]
    }
   ],
   "source": [
    "tensor = torch.rand(3, 3)\n",
    "tensor[:,1] = 1\n",
    "tensor[0,0] = 6\n",
    "tensor[2,2] = 9\n",
    "\n",
    "# pad tensor with 0's\n",
    "print(f'Original tensor: \\n {tensor} \\n')\n",
    "tensor = torch.nn.functional.pad(tensor, (1, 1, 1, 1), value=0)\n",
    "print(f'Padded tensor: \\n {tensor} \\n')\n",
    "\n",
    "# t1 = torch.cat([tensor, tensor], dim=1)\n",
    "# print(t1)"
   ]
  }
 ],
 "metadata": {
  "kernelspec": {
   "display_name": "Python 3",
   "language": "python",
   "name": "python3"
  },
  "language_info": {
   "codemirror_mode": {
    "name": "ipython",
    "version": 3
   },
   "file_extension": ".py",
   "mimetype": "text/x-python",
   "name": "python",
   "nbconvert_exporter": "python",
   "pygments_lexer": "ipython3",
   "version": "3.11.6"
  }
 },
 "nbformat": 4,
 "nbformat_minor": 2
}
