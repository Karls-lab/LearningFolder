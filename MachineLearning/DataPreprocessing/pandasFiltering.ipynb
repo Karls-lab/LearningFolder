{
 "cells": [
  {
   "cell_type": "code",
   "execution_count": 5,
   "metadata": {},
   "outputs": [
    {
     "name": "stdout",
     "output_type": "stream",
     "text": [
      "  first_name  last_name\n",
      "0       Neil  Armstrong\n",
      "1       Buzz     Aldrin\n",
      "  first_name last_name\n",
      "3       Alan      Bean\n",
      "4       Alan   Shepard\n"
     ]
    }
   ],
   "source": [
    "import pandas as pd\n",
    "astronauts = ['Neil Armstrong', 'Buzz Aldrin', 'Pete Conrad', 'Alan Bean', 'Alan Shepard', 'Edgar Mitchell', 'David Scott', 'James Irwin', 'John Young', 'Charles Duke', 'Eugene Cernan', 'Harrison Schmitt']\n",
    "df = pd.DataFrame(astronauts, columns=['name'])\n",
    "\n",
    "# The [[]] is to make it a dataframe, not a series\n",
    "df[['first_name', 'last_name']] = df['name'].str.split(' ', expand=True)\n",
    "df.drop('name', axis=1, inplace=True)\n",
    "print(df.head(2))\n",
    "\n",
    "# Filter the df by name = 'Alan'\n",
    "alan = df[df.first_name == 'Alan']\n",
    "print(alan)\n",
    "\n",
    "\n"
   ]
  }
 ],
 "metadata": {
  "kernelspec": {
   "display_name": "Python 3",
   "language": "python",
   "name": "python3"
  },
  "language_info": {
   "codemirror_mode": {
    "name": "ipython",
    "version": 3
   },
   "file_extension": ".py",
   "mimetype": "text/x-python",
   "name": "python",
   "nbconvert_exporter": "python",
   "pygments_lexer": "ipython3",
   "version": "3.11.6"
  }
 },
 "nbformat": 4,
 "nbformat_minor": 2
}
