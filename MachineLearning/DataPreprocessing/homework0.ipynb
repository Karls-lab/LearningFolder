{
 "cells": [
  {
   "cell_type": "code",
   "execution_count": null,
   "metadata": {},
   "outputs": [],
   "source": [
    "grouped = playerHits.groupby('nameFirst').agg({'nameLast':'first', 'H':'sum', 'AB':'sum'}).reset_index()\n",
    "grouped['avg'] = grouped.H/grouped.AB\n",
    "\n",
    "john = grouped[grouped.nameFirst == 'John']\n",
    "juan = grouped[grouped.nameFirst == 'Juan']\n",
    "diplay(len(john), len(juan))\n",
    "\n",
    "\n"
   ]
  }
 ],
 "metadata": {
  "language_info": {
   "name": "python"
  }
 },
 "nbformat": 4,
 "nbformat_minor": 2
}
