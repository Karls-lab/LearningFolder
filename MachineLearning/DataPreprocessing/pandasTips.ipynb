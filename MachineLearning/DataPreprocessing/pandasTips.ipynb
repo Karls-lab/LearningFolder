{
 "cells": [
  {
   "cell_type": "code",
   "execution_count": 2,
   "metadata": {},
   "outputs": [],
   "source": [
    "import pandas as pd"
   ]
  },
  {
   "cell_type": "markdown",
   "metadata": {},
   "source": [
    "Pandas is a really powerful tool! Here are some tips \n",
    "and tricks to prepossess your data. "
   ]
  },
  {
   "cell_type": "code",
   "execution_count": 1,
   "metadata": {},
   "outputs": [
    {
     "ename": "NameError",
     "evalue": "name 'pd' is not defined",
     "output_type": "error",
     "traceback": [
      "\u001b[0;31m---------------------------------------------------------------------------\u001b[0m",
      "\u001b[0;31mNameError\u001b[0m                                 Traceback (most recent call last)",
      "Cell \u001b[0;32mIn[1], line 4\u001b[0m\n\u001b[1;32m      1\u001b[0m \u001b[38;5;124;03m\"\"\" Handle missing data in a pandas DataFrame.\"\"\"\u001b[39;00m\n\u001b[1;32m      2\u001b[0m df \u001b[38;5;241m=\u001b[39m {\u001b[38;5;124m'\u001b[39m\u001b[38;5;124mfirst_name\u001b[39m\u001b[38;5;124m'\u001b[39m: [\u001b[38;5;124m'\u001b[39m\u001b[38;5;124mJason\u001b[39m\u001b[38;5;124m'\u001b[39m, \u001b[38;5;124m'\u001b[39m\u001b[38;5;124mMolly\u001b[39m\u001b[38;5;124m'\u001b[39m, \u001b[38;5;124m'\u001b[39m\u001b[38;5;124mTina\u001b[39m\u001b[38;5;124m'\u001b[39m, \u001b[38;5;124m'\u001b[39m\u001b[38;5;124mJake\u001b[39m\u001b[38;5;124m'\u001b[39m, \u001b[38;5;124m'\u001b[39m\u001b[38;5;124mAmy\u001b[39m\u001b[38;5;124m'\u001b[39m], \n\u001b[1;32m      3\u001b[0m       \u001b[38;5;124m'\u001b[39m\u001b[38;5;124mlast_name\u001b[39m\u001b[38;5;124m'\u001b[39m: [\u001b[38;5;124m'\u001b[39m\u001b[38;5;124mMiller\u001b[39m\u001b[38;5;124m'\u001b[39m, \u001b[38;5;28;01mNone\u001b[39;00m, \u001b[38;5;124m'\u001b[39m\u001b[38;5;124mAli\u001b[39m\u001b[38;5;124m'\u001b[39m, \u001b[38;5;124m'\u001b[39m\u001b[38;5;124mMilner\u001b[39m\u001b[38;5;124m'\u001b[39m, \u001b[38;5;28;01mNone\u001b[39;00m]}\n\u001b[0;32m----> 4\u001b[0m df \u001b[38;5;241m=\u001b[39m \u001b[43mpd\u001b[49m\u001b[38;5;241m.\u001b[39mDataFrame(df)\n\u001b[1;32m      6\u001b[0m \u001b[38;5;66;03m# use isnull() to check for missing values\u001b[39;00m\n\u001b[1;32m      7\u001b[0m \u001b[38;5;28mprint\u001b[39m(df\u001b[38;5;241m.\u001b[39mhead(\u001b[38;5;241m2\u001b[39m)\u001b[38;5;241m.\u001b[39misnull())\n",
      "\u001b[0;31mNameError\u001b[0m: name 'pd' is not defined"
     ]
    }
   ],
   "source": [
    "\"\"\" Handle missing data in a pandas DataFrame.\"\"\"\n",
    "df = {'first_name': ['Jason', 'Molly', 'Tina', 'Jake', 'Amy'], \n",
    "      'last_name': ['Miller', None, 'Ali', 'Milner', None]}\n",
    "df = pd.DataFrame(df)\n",
    "\n",
    "# use isnull() to check for missing values\n",
    "print(df.head(2).isnull())\n",
    "\n",
    "# use dropna() to drop rows with missing values\n",
    "print(df.head(2).dropna())\n",
    "\n",
    "# or use fillna() to fill in missing values\n",
    "print(df.head(2).fillna(\"No Last Name\"))\n"
   ]
  },
  {
   "cell_type": "code",
   "execution_count": 17,
   "metadata": {},
   "outputs": [
    {
     "name": "stdout",
     "output_type": "stream",
     "text": [
      "Total number of duplicates: 3\n",
      "  first_name last_name\n",
      "0      Jason    Miller\n",
      "1      Molly       Ali\n",
      "<class 'pandas.core.frame.DataFrame'>\n",
      "RangeIndex: 5 entries, 0 to 4\n",
      "Data columns (total 2 columns):\n",
      " #   Column      Non-Null Count  Dtype \n",
      "---  ------      --------------  ----- \n",
      " 0   first_name  5 non-null      string\n",
      " 1   last_name   5 non-null      string\n",
      "dtypes: string(2)\n",
      "memory usage: 212.0 bytes\n",
      "None\n"
     ]
    }
   ],
   "source": [
    "\"\"\" Dropping duplicate data in a pandas DataFrame.\"\"\"\n",
    "df = {'first_name': ['Jason', 'Molly', 'Molly', 'Jason', 'Jason'], \n",
    "      'last_name': ['Miller', 'Ali', 'Ali', 'Miller', 'Miller']}\n",
    "df = pd.DataFrame(df)\n",
    "\n",
    "# use duplicated() to check for duplicate rows\n",
    "print(f'Total number of duplicates: {sum(df.duplicated())}')\n",
    "\n",
    "# use drop_duplicates() to drop duplicate rows\n",
    "print(df.drop_duplicates())\n",
    "\n",
    "# use astype() to convert a column to a different type\n",
    "df['last_name'] = df['last_name'].astype('string')\n",
    "df['first_name'] = df['first_name'].astype('string')\n",
    "\n",
    "# use df.info() to get info about the DataFrame\n",
    "print(df.info())\n",
    "\n"
   ]
  }
 ],
 "metadata": {
  "kernelspec": {
   "display_name": "Python 3",
   "language": "python",
   "name": "python3"
  },
  "language_info": {
   "codemirror_mode": {
    "name": "ipython",
    "version": 3
   },
   "file_extension": ".py",
   "mimetype": "text/x-python",
   "name": "python",
   "nbconvert_exporter": "python",
   "pygments_lexer": "ipython3",
   "version": "3.11.6"
  }
 },
 "nbformat": 4,
 "nbformat_minor": 2
}
