{
 "cells": [
  {
   "cell_type": "code",
   "execution_count": 3,
   "metadata": {},
   "outputs": [],
   "source": [
    "import torch\n",
    "import torchvision\n",
    "from torchvision import transforms\n",
    "\n",
    "\n",
    "bigTransform = transforms.Compose([\n",
    "    transforms.RandomHorizontalFlip(p=.5),\n",
    "    transforms.RandomVerticalFlip(p=.5),\n",
    "    transforms.RandomInvert(p=0.5),\n",
    "    transforms.RandomAffine(degrees=30, translate=(0.2, 0.2), scale=(0.9, 1.1), shear=1), \n",
    "    transforms.ColorJitter(brightness=0.1, contrast=0.1, saturation=0.1, hue=0.1),\n",
    "    transforms.RandomGrayscale(p=0.1),\n",
    "    transforms.RandomPerspective(distortion_scale=0.1, p=0.1, interpolation=3),\n",
    "    transforms.GaussianBlur(kernel_size=3, sigma=(0.1, 2.0)),\n",
    "    transforms.RandomSolarize(threshold=128, p=0.1),\n",
    "])\n",
    "\n",
    "\n",
    "smallTransform = transforms.Compose([\n",
    "    transforms.RandomHorizontalFlip(p=.5),\n",
    "    transforms.RandomVerticalFlip(p=.5),\n",
    "    transforms.RandomInvert(p=0.5),\n",
    "    transforms.RandomGrayscale(p=0.1),\n",
    "    transforms.RandomPerspective(distortion_scale=0.1, p=0.1, interpolation=3),\n",
    "])"
   ]
  }
 ],
 "metadata": {
  "kernelspec": {
   "display_name": "Python 3",
   "language": "python",
   "name": "python3"
  },
  "language_info": {
   "codemirror_mode": {
    "name": "ipython",
    "version": 3
   },
   "file_extension": ".py",
   "mimetype": "text/x-python",
   "name": "python",
   "nbconvert_exporter": "python",
   "pygments_lexer": "ipython3",
   "version": "3.11.6"
  }
 },
 "nbformat": 4,
 "nbformat_minor": 2
}
