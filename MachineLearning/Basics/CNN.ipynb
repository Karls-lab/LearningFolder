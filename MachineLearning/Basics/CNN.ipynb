{
 "cells": [
  {
   "cell_type": "markdown",
   "metadata": {},
   "source": [
    "Secret recipe of CNN:\n",
    "    not predefined filters -> filters with learnable parameters.\n",
    "\n",
    "You can predefine filters/kernels if you initialize the weights,\n",
    "but if you don't they use randomized. "
   ]
  },
  {
   "cell_type": "code",
   "execution_count": 13,
   "metadata": {},
   "outputs": [
    {
     "name": "stdout",
     "output_type": "stream",
     "text": [
      "test data shape: \n",
      "tensor([[[[-0.7860, -1.0053,  0.5453, -0.5328],\n",
      "          [-0.7226, -1.8749, -0.7743,  1.2109],\n",
      "          [ 0.3602, -0.1621,  0.5869,  0.4287],\n",
      "          [ 1.2739,  0.6832, -0.2268,  0.2863]]]])\n",
      "Conv2d(1, 1, kernel_size=(3, 3), stride=(1, 1), padding=(1, 1))\n",
      "output shape: \n",
      "tensor([[[[ 0.2102,  0.5440,  0.0836, -0.3769],\n",
      "          [-0.4715, -0.2460,  0.9337,  0.0680],\n",
      "          [-0.2822, -0.2478,  0.4474,  0.4727],\n",
      "          [ 0.4165, -0.4146,  0.0848,  0.1182]]]],\n",
      "       grad_fn=<ConvolutionBackward0>)\n"
     ]
    }
   ],
   "source": [
    "import torch\n",
    "import torch.nn as nn\n",
    "\n",
    "testData = torch.randn(1, 1, 4, 4)\n",
    "\n",
    "print(f\"test data shape: \\n{testData}\")\n",
    "conv_layer = nn.Conv2d(1, 1, kernel_size=3, stride=1, padding=1)\n",
    "print(conv_layer)\n",
    "\n",
    "# forward pass\n",
    "output = conv_layer(testData)\n",
    "print(f\"output shape: \\n{output}\")"
   ]
  },
  {
   "cell_type": "markdown",
   "metadata": {},
   "source": [
    "Convolution has some weaknesses, if we shrink the output size, we put less emphasis on edge pixels\n",
    "Now, use padding\n",
    "\n",
    "Two types of convolution types:\n",
    "    1. Valid convolution: no padding \n",
    "    2. Same convolution: pad so input and output are same."
   ]
  },
  {
   "cell_type": "code",
   "execution_count": 3,
   "metadata": {},
   "outputs": [
    {
     "name": "stdout",
     "output_type": "stream",
     "text": [
      "tensor([[0, 0, 0, 0],\n",
      "        [0, 1, 2, 0],\n",
      "        [0, 3, 4, 0],\n",
      "        [0, 0, 0, 0]])\n"
     ]
    }
   ],
   "source": [
    "\n",
    "x_data = [[1, 2], [3, 4]]\n",
    "tensor0 = torch.tensor(x_data)\n",
    "tensor1 = torch.nn.functional.pad(tensor0, (1, 1, 1, 1), value=0)\n",
    "print(tensor1)"
   ]
  },
  {
   "cell_type": "markdown",
   "metadata": {},
   "source": []
  }
 ],
 "metadata": {
  "kernelspec": {
   "display_name": "Python 3",
   "language": "python",
   "name": "python3"
  },
  "language_info": {
   "codemirror_mode": {
    "name": "ipython",
    "version": 3
   },
   "file_extension": ".py",
   "mimetype": "text/x-python",
   "name": "python",
   "nbconvert_exporter": "python",
   "pygments_lexer": "ipython3",
   "version": "3.11.6"
  }
 },
 "nbformat": 4,
 "nbformat_minor": 2
}
