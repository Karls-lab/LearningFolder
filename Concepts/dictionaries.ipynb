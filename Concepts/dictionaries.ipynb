{
 "cells": [
  {
   "cell_type": "markdown",
   "metadata": {},
   "source": [
    "Dictionaries are super important in Python! This guide will tell you \n",
    "all about them and cool things you can do."
   ]
  },
  {
   "cell_type": "code",
   "execution_count": 2,
   "metadata": {},
   "outputs": [
    {
     "name": "stdout",
     "output_type": "stream",
     "text": [
      "Elements in my dictionary: {'red': 20, 'green': 5, 'purple': 2}\n"
     ]
    }
   ],
   "source": [
    "# Inserting Elements into a dictionary\n",
    "foo = {} \n",
    "foo['blue'] = 10\n",
    "foo['red'] = 20 \n",
    "foo['green'] = 5\n",
    "foo['purple'] = 2\n",
    "\n",
    "# Deleting Elements from a dictionary \n",
    "del foo['blue']\n",
    "\n",
    "print(f'Elements in my dictionary: {foo}')"
   ]
  },
  {
   "cell_type": "code",
   "execution_count": 4,
   "metadata": {},
   "outputs": [
    {
     "name": "stdout",
     "output_type": "stream",
     "text": [
      "Accessing red 20\n",
      "Modified red to: 42\n"
     ]
    }
   ],
   "source": [
    "# Access Values in dictionary\n",
    "print(f\"Accessing red {foo['red']}\")\n",
    "\n",
    "# Modify values \n",
    "foo['red'] = 42\n",
    "print(f\"Modified red to: {foo['red']}\")"
   ]
  },
  {
   "cell_type": "code",
   "execution_count": 8,
   "metadata": {},
   "outputs": [
    {
     "name": "stdout",
     "output_type": "stream",
     "text": [
      "Does the green key exist? True\n",
      "Does the orange key exist? False\n",
      "Key: red, Value: 42\n",
      "Key: green, Value: 5\n",
      "Key: purple, Value: 2\n"
     ]
    }
   ],
   "source": [
    "# Check if key exists\n",
    "print(f\"Does the green key exist? {'green' in foo}\")\n",
    "print(f\"Does the orange key exist? {'orange' in foo}\")\n",
    "\n",
    "# Iterate over keys and values\n",
    "for key, value in foo.items():\n",
    "    print(f'Key: {key}, Value: {value}')"
   ]
  },
  {
   "cell_type": "code",
   "execution_count": 10,
   "metadata": {},
   "outputs": [
    {
     "name": "stdout",
     "output_type": "stream",
     "text": [
      "{1: 1, 2: 4, 3: 9, 4: 16, 5: 25}\n",
      "{1: 1, 2: 4, 3: 9, 4: 16, 5: 25, 'red': 42, 'green': 5, 'purple': 2}\n"
     ]
    }
   ],
   "source": [
    "# Dictionary Comprehension \n",
    "squaredValues = {x: x**2 for x in range(1, 6)}\n",
    "print(squaredValues)\n",
    "\n",
    "# Merge two dictionaries \n",
    "squaredValues.update(foo)\n",
    "print(squaredValues)"
   ]
  },
  {
   "cell_type": "code",
   "execution_count": 12,
   "metadata": {},
   "outputs": [
    {
     "name": "stdout",
     "output_type": "stream",
     "text": [
      "Counter({'apple': 3, 'banana': 2, 'orange': 1})\n",
      "{'b': 2, 'c': 3}\n"
     ]
    }
   ],
   "source": [
    "# Count the number of items in a list\n",
    "from collections import Counter\n",
    "\n",
    "data = ['apple', 'banana', 'apple', 'orange', 'banana', 'apple']\n",
    "counter = Counter(data)\n",
    "print(counter)\n",
    "\n",
    "# Filter Dictionary based on conditional logic \n",
    "original_dict = {'a': 1, 'b': 2, 'c': 3}\n",
    "filtered_dict = {key: value for key, value in original_dict.items() if value > 1}\n",
    "print(filtered_dict)  "
   ]
  }
 ],
 "metadata": {
  "kernelspec": {
   "display_name": "Python 3",
   "language": "python",
   "name": "python3"
  },
  "language_info": {
   "codemirror_mode": {
    "name": "ipython",
    "version": 3
   },
   "file_extension": ".py",
   "mimetype": "text/x-python",
   "name": "python",
   "nbconvert_exporter": "python",
   "pygments_lexer": "ipython3",
   "version": "3.11.6"
  }
 },
 "nbformat": 4,
 "nbformat_minor": 2
}
